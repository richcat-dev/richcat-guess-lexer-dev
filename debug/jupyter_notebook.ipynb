{
 "cells": [
  {
   "cell_type": "markdown",
   "metadata": {},
   "source": [
    "# Heading 1"
   ]
  },
  {
   "cell_type": "code",
   "execution_count": 12,
   "metadata": {},
   "outputs": [],
   "source": [
    "MAX_VALUE = 20"
   ]
  },
  {
   "cell_type": "markdown",
   "metadata": {},
   "source": [
    "## Heading 2\n",
    "text\n",
    "\n",
    "- item 1.\n",
    "    - item 1.1.\n",
    "- item 2."
   ]
  },
  {
   "cell_type": "code",
   "execution_count": 14,
   "metadata": {},
   "outputs": [
    {
     "data": {
      "text/plain": [
       "['Fizz',\n",
       " '',\n",
       " '',\n",
       " 'Fizz',\n",
       " '',\n",
       " '',\n",
       " 'Fizz',\n",
       " '',\n",
       " '',\n",
       " 'Fizz',\n",
       " '',\n",
       " '',\n",
       " 'Fizz',\n",
       " '',\n",
       " '',\n",
       " 'Fizz',\n",
       " '',\n",
       " '',\n",
       " 'Fizz',\n",
       " '']"
      ]
     },
     "execution_count": 14,
     "metadata": {},
     "output_type": "execute_result"
    }
   ],
   "source": [
    "# Generate fizz list\n",
    "fizz_list = [\"Fizz\" if i % 3 == 0 else \"\" for i in range(MAX_VALUE)]\n",
    "\n",
    "fizz_list"
   ]
  },
  {
   "cell_type": "code",
   "execution_count": 22,
   "metadata": {},
   "outputs": [
    {
     "data": {
      "text/plain": [
       "['Buzz',\n",
       " '',\n",
       " '',\n",
       " '',\n",
       " '',\n",
       " 'Buzz',\n",
       " '',\n",
       " '',\n",
       " '',\n",
       " '',\n",
       " 'Buzz',\n",
       " '',\n",
       " '',\n",
       " '',\n",
       " '',\n",
       " 'Buzz',\n",
       " '',\n",
       " '',\n",
       " '',\n",
       " '']"
      ]
     },
     "execution_count": 22,
     "metadata": {},
     "output_type": "execute_result"
    }
   ],
   "source": [
    "# Generate buzz list\n",
    "buzz_list = [\"Buzz\" if i % 5 == 0 else \"\" for i in range(MAX_VALUE)]\n",
    "\n",
    "buzz_list"
   ]
  },
  {
   "cell_type": "code",
   "execution_count": 24,
   "metadata": {},
   "outputs": [
    {
     "name": "stdout",
     "output_type": "stream",
     "text": [
      "[(0, 'FizzBizz'), (1, ''), (2, ''), (3, 'Fizz'), (4, ''), (5, 'Bizz'), (6, 'Fizz'), (7, ''), (8, ''), (9, 'Fizz'), (10, 'Bizz'), (11, ''), (12, 'Fizz'), (13, ''), (14, ''), (15, 'FizzBizz'), (16, ''), (17, ''), (18, 'Fizz'), (19, '')]\n"
     ]
    }
   ],
   "source": [
    "# Answer fizz buzz\n",
    "answer = [fizz + buzz for fizz, buzz in zip(fizz_list, bizz_list)]\n",
    "\n",
    "print([(i, a) for i, a in enumerate(answer)])"
   ]
  },
  {
   "cell_type": "code",
   "execution_count": null,
   "metadata": {},
   "outputs": [],
   "source": []
  }
 ],
 "metadata": {
  "kernelspec": {
   "display_name": "Python 3.8.5 64-bit",
   "metadata": {
    "interpreter": {
     "hash": "31f2aee4e71d21fbe5cf8b01ff0e069b9275f58929596ceb00d14d90e3e16cd6"
    }
   },
   "name": "python3"
  },
  "language_info": {
   "codemirror_mode": {
    "name": "ipython",
    "version": 3
   },
   "file_extension": ".py",
   "mimetype": "text/x-python",
   "name": "python",
   "nbconvert_exporter": "python",
   "pygments_lexer": "ipython3",
   "version": "3.8.10"
  },
  "orig_nbformat": 2
 },
 "nbformat": 4,
 "nbformat_minor": 2
}
