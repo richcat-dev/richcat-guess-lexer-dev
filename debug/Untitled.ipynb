{
 "cells": [
  {
   "cell_type": "code",
   "execution_count": 29,
   "metadata": {},
   "outputs": [
    {
     "name": "stdout",
     "output_type": "stream",
     "text": [
      "The autoreload extension is already loaded. To reload it, use:\n",
      "  %reload_ext autoreload\n"
     ]
    }
   ],
   "source": [
    "%load_ext autoreload\n",
    "%autoreload 2"
   ]
  },
  {
   "cell_type": "code",
   "execution_count": 30,
   "metadata": {},
   "outputs": [
    {
     "name": "stdout",
     "output_type": "stream",
     "text": [
      "\u001b[1;38;5;253;48;5;235m  \u001b[0m\u001b[38;5;241;48;5;235m1 \u001b[0m\u001b[38;5;149;48;5;235mecho\u001b[0m\u001b[38;5;231;48;5;235m \u001b[0m\u001b[38;5;222;48;5;235m\"hello world\"\u001b[0m\u001b[48;5;235m    \u001b[0m\n",
      "\u001b[1;38;5;253;48;5;235m  \u001b[0m\u001b[38;5;241;48;5;235m2 \u001b[0m\u001b[38;5;149;48;5;235ma\u001b[0m\u001b[38;5;204;48;5;235m=\u001b[0m\u001b[38;5;149;48;5;235mbbb\u001b[0m\u001b[48;5;235m                 \u001b[0m\n",
      "\u001b[1;38;5;253;48;5;235m  \u001b[0m\u001b[38;5;241;48;5;235m3 \u001b[0m\u001b[38;5;149;48;5;235mecho\u001b[0m\u001b[38;5;231;48;5;235m \u001b[0m\u001b[38;5;149;48;5;235m$a\u001b[0m\u001b[48;5;235m               \u001b[0m\n"
     ]
    }
   ],
   "source": [
    "!richcat test.js"
   ]
  },
  {
   "cell_type": "code",
   "execution_count": 31,
   "metadata": {},
   "outputs": [],
   "source": [
    "from richcat import richcat"
   ]
  },
  {
   "cell_type": "code",
   "execution_count": 32,
   "metadata": {},
   "outputs": [
    {
     "name": "stdout",
     "output_type": "stream",
     "text": [
      "\u001b[1;38;5;253;48;5;235m  \u001b[0m\u001b[38;5;241;48;5;235m1 \u001b[0m\u001b[38;5;231;48;5;235mecho\u001b[0m\u001b[38;5;231;48;5;235m \u001b[0m\u001b[38;5;222;48;5;235m\"\u001b[0m\u001b[38;5;222;48;5;235mhello world\u001b[0m\u001b[38;5;222;48;5;235m\"\u001b[0m\u001b[48;5;235m                                                                              \u001b[0m\n",
      "\u001b[1;38;5;253;48;5;235m  \u001b[0m\u001b[38;5;241;48;5;235m2 \u001b[0m\u001b[38;5;231;48;5;235ma\u001b[0m\u001b[38;5;204;48;5;235m=\u001b[0m\u001b[38;5;231;48;5;235mbbb\u001b[0m\u001b[48;5;235m                                                                                           \u001b[0m\n",
      "\u001b[1;38;5;253;48;5;235m  \u001b[0m\u001b[38;5;241;48;5;235m3 \u001b[0m\u001b[38;5;231;48;5;235mecho\u001b[0m\u001b[38;5;231;48;5;235m \u001b[0m\u001b[38;5;126;48;5;52m$\u001b[0m\u001b[38;5;231;48;5;235ma\u001b[0m\u001b[48;5;235m                                                                                         \u001b[0m\n"
     ]
    },
    {
     "data": {
      "text/html": [
       "<pre style=\"white-space:pre;overflow-x:auto;line-height:normal;font-family:Menlo,'DejaVu Sans Mono',consolas,'Courier New',monospace\"></pre>\n"
      ],
      "text/plain": [
       "<rich.jupyter.JupyterRenderable at 0x7fbf7508c760>"
      ]
     },
     "metadata": {},
     "output_type": "display_data"
    }
   ],
   "source": [
    "richcat('test.py', width=100)"
   ]
  },
  {
   "cell_type": "code",
   "execution_count": 36,
   "metadata": {},
   "outputs": [
    {
     "name": "stdout",
     "output_type": "stream",
     "text": [
      "\u001b[1;38;5;253;48;5;235m  \u001b[0m\u001b[38;5;241;48;5;235m1 \u001b[0m\u001b[38;5;231;48;5;235mecho\u001b[0m\u001b[38;5;231;48;5;235m \u001b[0m\u001b[38;5;222;48;5;235m\"\u001b[0m\u001b[38;5;222;48;5;235mhello world\u001b[0m\u001b[38;5;222;48;5;235m\"\u001b[0m\u001b[48;5;235m                                  \u001b[0m\n",
      "\u001b[1;38;5;253;48;5;235m  \u001b[0m\u001b[38;5;241;48;5;235m2 \u001b[0m\u001b[38;5;231;48;5;235ma\u001b[0m\u001b[38;5;204;48;5;235m=\u001b[0m\u001b[38;5;231;48;5;235mbbb\u001b[0m\u001b[48;5;235m                                               \u001b[0m\n",
      "\u001b[1;38;5;253;48;5;235m  \u001b[0m\u001b[38;5;241;48;5;235m3 \u001b[0m\u001b[38;5;231;48;5;235mecho\u001b[0m\u001b[38;5;231;48;5;235m \u001b[0m\u001b[38;5;126;48;5;52m$\u001b[0m\u001b[38;5;231;48;5;235ma\u001b[0m\u001b[48;5;235m                                             \u001b[0m\n"
     ]
    }
   ],
   "source": [
    "!richcat test.py -w 0.7"
   ]
  },
  {
   "cell_type": "code",
   "execution_count": 33,
   "metadata": {},
   "outputs": [
    {
     "name": "stdout",
     "output_type": "stream",
     "text": [
      "╭────────────────────────────────────────────────╮\n",
      "│                                                │\n",
      "│   ╔════════════════════════════════════════╗   │\n",
      "│   ║                \u001b[1mheader 1\u001b[0m                ║   │\n",
      "│   ╚════════════════════════════════════════╝   │\n",
      "│                                                │\n",
      "│                                                │\n",
      "│                    \u001b[1;4mheader 2\u001b[0m                    │\n",
      "│                                                │\n",
      "│                    \u001b[1mheader 3\u001b[0m                    │\n",
      "│                                                │\n",
      "│                    \u001b[1;2mheader 4\u001b[0m                    │\n",
      "│                                                │\n",
      "│                    \u001b[4mheader 5\u001b[0m                    │\n",
      "│                                                │\n",
      "│                    \u001b[3mheader 6\u001b[0m                    │\n",
      "│                                                │\n",
      "│   \u001b[1;33m • \u001b[0mlist                                      │\n",
      "│   \u001b[1;33m   \u001b[0m\u001b[1;33m • \u001b[0mabc                                    │\n",
      "│   \u001b[1;33m   \u001b[0m\u001b[1;33m • \u001b[0mdef                                    │\n",
      "│   \u001b[1;33m   \u001b[0m\u001b[1;33m   \u001b[0m\u001b[1;33m • \u001b[0mghi                                 │\n",
      "│   \u001b[1;33m   \u001b[0m\u001b[1;33m   \u001b[0m\u001b[1;33m • \u001b[0mjkl                                 │\n",
      "│                                                │\n",
      "│   \u001b[1;33m 1 \u001b[0mnumerical list                            │\n",
      "│   \u001b[1;33m 2 \u001b[0mnumerical list                            │\n",
      "│                                                │\n",
      "│   \u001b[2m┌────────────────────────────────────────┐\u001b[0m   │\n",
      "│   \u001b[2m│\u001b[0m \u001b[48;5;235mimport numpy as np                   \u001b[0m  \u001b[2m│\u001b[0m   │\n",
      "│   \u001b[2m│\u001b[0m \u001b[48;5;235mprint(np.array([1,2,3,4]))           \u001b[0m  \u001b[2m│\u001b[0m   │\n",
      "│   \u001b[2m└────────────────────────────────────────┘\u001b[0m   │\n",
      "│                                                │\n",
      "│   aaaaaaaaa                                    │\n",
      "│                                                │\n",
      "│   \u001b[2m┌────────────────────────────────────────┐\u001b[0m   │\n",
      "│   \u001b[2m│\u001b[0m \u001b[38;5;204;48;5;235mimport\u001b[0m\u001b[38;5;231;48;5;235m \u001b[0m\u001b[38;5;231;48;5;235mnumpy\u001b[0m\u001b[38;5;231;48;5;235m \u001b[0m\u001b[38;5;117;48;5;235mas\u001b[0m\u001b[38;5;231;48;5;235m \u001b[0m\u001b[38;5;231;48;5;235mnp\u001b[0m\u001b[48;5;235m                   \u001b[0m  \u001b[2m│\u001b[0m   │\n",
      "│   \u001b[2m│\u001b[0m \u001b[38;5;231;48;5;235mprint\u001b[0m\u001b[38;5;231;48;5;235m(\u001b[0m\u001b[38;5;231;48;5;235mnp\u001b[0m\u001b[38;5;204;48;5;235m.\u001b[0m\u001b[38;5;231;48;5;235marray\u001b[0m\u001b[38;5;231;48;5;235m(\u001b[0m\u001b[38;5;231;48;5;235m[\u001b[0m\u001b[38;5;147;48;5;235m1\u001b[0m\u001b[38;5;231;48;5;235m,\u001b[0m\u001b[38;5;147;48;5;235m2\u001b[0m\u001b[38;5;231;48;5;235m,\u001b[0m\u001b[38;5;147;48;5;235m3\u001b[0m\u001b[38;5;231;48;5;235m,\u001b[0m\u001b[38;5;147;48;5;235m4\u001b[0m\u001b[38;5;231;48;5;235m]\u001b[0m\u001b[38;5;231;48;5;235m)\u001b[0m\u001b[38;5;231;48;5;235m)\u001b[0m\u001b[48;5;235m           \u001b[0m  \u001b[2m│\u001b[0m   │\n",
      "│   \u001b[2m└────────────────────────────────────────┘\u001b[0m   │\n",
      "│                                                │\n",
      "│   ╔════════════════════════════════════════╗   │\n",
      "│   ║                 \u001b[1mtable\u001b[0m                  ║   │\n",
      "│   ╚════════════════════════════════════════╝   │\n",
      "│                                                │\n",
      "│   | aaa | bbb | ccc | | --- | --- | --- | |    │\n",
      "│   bbb | 344 | 535 | | bbb | 344 | 535 | |      │\n",
      "│   bbb | 344 | 535 | | bbb | 344 | 535 | |      │\n",
      "│   bbb | 344 | 535 |                            │\n",
      "│                                                │\n",
      "╰────────────────────────────────────────────────╯\n"
     ]
    },
    {
     "data": {
      "text/html": [
       "<pre style=\"white-space:pre;overflow-x:auto;line-height:normal;font-family:Menlo,'DejaVu Sans Mono',consolas,'Courier New',monospace\"></pre>\n"
      ],
      "text/plain": [
       "<rich.jupyter.JupyterRenderable at 0x7fbf75075d90>"
      ]
     },
     "metadata": {},
     "output_type": "display_data"
    }
   ],
   "source": [
    "richcat('sample.md', width=50)"
   ]
  },
  {
   "cell_type": "code",
   "execution_count": 18,
   "metadata": {},
   "outputs": [
    {
     "name": "stdout",
     "output_type": "stream",
     "text": [
      "error1000: raise error1. hello!\n"
     ]
    }
   ],
   "source": [
    "class MyException1(Exception):\n",
    "    def __init__(self, *arg):\n",
    "        self.arg=arg\n",
    "\n",
    "class MyException2(Exception):\n",
    "    pass\n",
    "\n",
    "def check_error(error):\n",
    "    if error.__class__==MyException1:\n",
    "        print(f\"error{error.arg[0]}: raise error1. {error.arg[1]}\")\n",
    "    elif error.__class__==MyException2:\n",
    "        print(\"error: raise error2\")\n",
    "    else:\n",
    "        raise error\n",
    "\n",
    "def main():\n",
    "    raise MyException1('1000', 'hello!')\n",
    "    #  raise MyException2\n",
    "    #  raise ZeroDivisionError\n",
    "\n",
    "try:\n",
    "    main()\n",
    "except Exception as e:\n",
    "    check_error(e)"
   ]
  }
 ],
 "metadata": {
  "kernelspec": {
   "display_name": "Python 3",
   "language": "python",
   "name": "python3"
  },
  "language_info": {
   "codemirror_mode": {
    "name": "ipython",
    "version": 3
   },
   "file_extension": ".py",
   "mimetype": "text/x-python",
   "name": "python",
   "nbconvert_exporter": "python",
   "pygments_lexer": "ipython3",
   "version": "3.8.5"
  }
 },
 "nbformat": 4,
 "nbformat_minor": 4
}
