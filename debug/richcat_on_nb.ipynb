{
 "cells": [
  {
   "cell_type": "code",
   "execution_count": 1,
   "metadata": {},
   "outputs": [],
   "source": [
    "from richcat import richcat"
   ]
  },
  {
   "cell_type": "code",
   "execution_count": 4,
   "metadata": {},
   "outputs": [
    {
     "name": "stdout",
     "output_type": "stream",
     "text": [
      "\u001b[1;38;5;253;48;5;235m  \u001b[0m\u001b[38;5;241;48;5;235m1 \u001b[0m\u001b[38;5;117;48;5;235mvar\u001b[0m\u001b[38;5;231;48;5;235m \u001b[0m\u001b[38;5;149;48;5;235mx\u001b[0m\u001b[38;5;231;48;5;235m,\u001b[0m\u001b[38;5;231;48;5;235m \u001b[0m\u001b[38;5;149;48;5;235my\u001b[0m\u001b[38;5;231;48;5;235m,\u001b[0m\u001b[38;5;231;48;5;235m \u001b[0m\u001b[38;5;149;48;5;235mz\u001b[0m\u001b[38;5;231;48;5;235m;\u001b[0m\u001b[38;5;231;48;5;235m \u001b[0m\u001b[38;5;102;48;5;235m// Declare 3 variables\u001b[0m\u001b[48;5;235m                                         \u001b[0m\n",
      "\u001b[1;38;5;253;48;5;235m  \u001b[0m\u001b[38;5;241;48;5;235m2 \u001b[0m\u001b[38;5;149;48;5;235mx\u001b[0m\u001b[38;5;231;48;5;235m \u001b[0m\u001b[38;5;204;48;5;235m=\u001b[0m\u001b[38;5;231;48;5;235m \u001b[0m\u001b[38;5;147;48;5;235m5\u001b[0m\u001b[38;5;231;48;5;235m;\u001b[0m\u001b[38;5;231;48;5;235m \u001b[0m\u001b[38;5;102;48;5;235m// Assign the value 5 to x\u001b[0m\u001b[48;5;235m                                           \u001b[0m\n",
      "\u001b[1;38;5;253;48;5;235m  \u001b[0m\u001b[38;5;241;48;5;235m3 \u001b[0m\u001b[38;5;149;48;5;235my\u001b[0m\u001b[38;5;231;48;5;235m \u001b[0m\u001b[38;5;204;48;5;235m=\u001b[0m\u001b[38;5;231;48;5;235m \u001b[0m\u001b[38;5;147;48;5;235m6\u001b[0m\u001b[38;5;231;48;5;235m;\u001b[0m\u001b[38;5;231;48;5;235m \u001b[0m\u001b[38;5;102;48;5;235m// Assign the value 6 to y\u001b[0m\u001b[48;5;235m                                           \u001b[0m\n",
      "\u001b[1;38;5;253;48;5;235m  \u001b[0m\u001b[38;5;241;48;5;235m4 \u001b[0m\u001b[38;5;149;48;5;235mz\u001b[0m\u001b[38;5;231;48;5;235m \u001b[0m\u001b[38;5;204;48;5;235m=\u001b[0m\u001b[38;5;231;48;5;235m \u001b[0m\u001b[38;5;149;48;5;235mx\u001b[0m\u001b[38;5;231;48;5;235m \u001b[0m\u001b[38;5;204;48;5;235m+\u001b[0m\u001b[38;5;231;48;5;235m \u001b[0m\u001b[38;5;149;48;5;235my\u001b[0m\u001b[38;5;231;48;5;235m;\u001b[0m\u001b[38;5;231;48;5;235m \u001b[0m\u001b[38;5;102;48;5;235m// Assign the sum of x and y to z\u001b[0m\u001b[48;5;235m                                \u001b[0m\n",
      "\u001b[1;38;5;253;48;5;235m  \u001b[0m\u001b[38;5;241;48;5;235m5 \u001b[0m\u001b[48;5;235m                                                                            \u001b[0m\n",
      "\u001b[1;38;5;253;48;5;235m  \u001b[0m\u001b[38;5;241;48;5;235m6 \u001b[0m\u001b[38;5;231;48;5;235mdocument\u001b[0m\u001b[38;5;231;48;5;235m.\u001b[0m\u001b[38;5;149;48;5;235mgetElementById\u001b[0m\u001b[38;5;231;48;5;235m(\u001b[0m\u001b[38;5;222;48;5;235m\"demo\"\u001b[0m\u001b[38;5;231;48;5;235m)\u001b[0m\u001b[38;5;231;48;5;235m.\u001b[0m\u001b[38;5;149;48;5;235minnerHTML\u001b[0m\u001b[38;5;231;48;5;235m \u001b[0m\u001b[38;5;204;48;5;235m=\u001b[0m\u001b[38;5;231;48;5;235m \u001b[0m\u001b[38;5;222;48;5;235m\"The value of z is \"\u001b[0m\u001b[38;5;231;48;5;235m \u001b[0m\u001b[38;5;204;48;5;235m+\u001b[0m\u001b[38;5;231;48;5;235m \u001b[0m\u001b[38;5;149;48;5;235mz\u001b[0m\u001b[38;5;231;48;5;235m \u001b[0m\u001b[38;5;204;48;5;235m+\u001b[0m\u001b[38;5;231;48;5;235m \u001b[0m\u001b[38;5;222;48;5;235m\".\"\u001b[0m\u001b[38;5;231;48;5;235m;\u001b[0m\u001b[48;5;235m \u001b[0m\n"
     ]
    },
    {
     "data": {
      "text/html": [
       "<pre style=\"white-space:pre;overflow-x:auto;line-height:normal;font-family:Menlo,'DejaVu Sans Mono',consolas,'Courier New',monospace\"></pre>\n"
      ],
      "text/plain": []
     },
     "metadata": {},
     "output_type": "display_data"
    }
   ],
   "source": [
    "richcat(\"./javascript.js\")"
   ]
  },
  {
   "cell_type": "code",
   "execution_count": 14,
   "metadata": {},
   "outputs": [
    {
     "name": "stdout",
     "output_type": "stream",
     "text": [
      "\u001b[1;38;5;253;48;5;235m  \u001b[0m\u001b[38;5;241;48;5;235m1 \u001b[0m\u001b[38;5;204;48;5;235mimport\u001b[0m\u001b[38;5;231;48;5;235m \u001b[0m\u001b[38;5;231;48;5;235mnumpy\u001b[0m\u001b[38;5;231;48;5;235m \u001b[0m\u001b[38;5;117;48;5;235mas\u001b[0m\u001b[38;5;231;48;5;235m \u001b[0m\u001b[38;5;231;48;5;235mnp\u001b[0m\u001b[48;5;235m     \u001b[0m\n",
      "\u001b[1;38;5;253;48;5;235m  \u001b[0m\u001b[38;5;241;48;5;235m2 \u001b[0m\u001b[38;5;231;48;5;235mnp\u001b[0m\u001b[38;5;204;48;5;235m.\u001b[0m\u001b[38;5;231;48;5;235marray\u001b[0m\u001b[38;5;231;48;5;235m(\u001b[0m\u001b[38;5;231;48;5;235m[\u001b[0m\u001b[38;5;147;48;5;235m1\u001b[0m\u001b[38;5;231;48;5;235m,\u001b[0m\u001b[38;5;231;48;5;235m \u001b[0m\u001b[38;5;147;48;5;235m2\u001b[0m\u001b[38;5;231;48;5;235m,\u001b[0m\u001b[38;5;231;48;5;235m \u001b[0m\u001b[38;5;147;48;5;235m3\u001b[0m\u001b[38;5;231;48;5;235m]\u001b[0m\u001b[38;5;231;48;5;235m)\u001b[0m\u001b[48;5;235m    \u001b[0m\n"
     ]
    },
    {
     "data": {
      "text/html": [
       "<pre style=\"white-space:pre;overflow-x:auto;line-height:normal;font-family:Menlo,'DejaVu Sans Mono',consolas,'Courier New',monospace\"></pre>\n"
      ],
      "text/plain": []
     },
     "metadata": {},
     "output_type": "display_data"
    }
   ],
   "source": [
    "richcat(\n",
    "    file_contents=\"\"\"import numpy as np\n",
    "np.array([1, 2, 3])\"\"\",\n",
    "    filetype=\"python\"\n",
    ")"
   ]
  },
  {
   "cell_type": "code",
   "execution_count": null,
   "metadata": {},
   "outputs": [],
   "source": []
  }
 ],
 "metadata": {
  "interpreter": {
   "hash": "31f2aee4e71d21fbe5cf8b01ff0e069b9275f58929596ceb00d14d90e3e16cd6"
  },
  "kernelspec": {
   "display_name": "Python 3 (ipykernel)",
   "language": "python",
   "name": "python3"
  },
  "language_info": {
   "codemirror_mode": {
    "name": "ipython",
    "version": 3
   },
   "file_extension": ".py",
   "mimetype": "text/x-python",
   "name": "python",
   "nbconvert_exporter": "python",
   "pygments_lexer": "ipython3",
   "version": "3.7.9"
  }
 },
 "nbformat": 4,
 "nbformat_minor": 4
}
